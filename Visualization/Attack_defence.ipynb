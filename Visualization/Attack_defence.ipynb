{
 "cells": [
  {
   "cell_type": "markdown",
   "metadata": {},
   "source": [
    "## ÉTUDE DU TEMPS D’ATAQUE ET DÉFENSE \n",
    "\n",
    "\n",
    "L’objectif des graphiques suivantes est d'analyzer le temps que les joueurs de chaque équipe passent dans son côte du terrain et le temps qu'ils passent dans l’autre côte. \n",
    "On peut dire que si les joueurs sont dans son côte il sont en train de défendre. En revanche, s’ils sont de l’autre côte c’est car ils sont en train de attaquer.\n",
    "Pendant le temp qu’une équipe attaque, la probabilité de marquer un but est évidement plus haute et en conséquence la dangerosité augmente.\n",
    "\n",
    "C'est intéressant de faire le rapport avec le numéro de buts pour confirmer si effectivement l’équipe  attaquant est l’équipe qui a marqué plus de buts.\n",
    "\n",
    "Ce notebook utilise les fichiers des deux matches qui sont gardés dans le path suivant : Dataset > sample-data-master > data > Sample_Game_1 et Sample_Game_2.\n",
    "\n",
    "Pour changer de match il est simplement nécessaire de changer le game_id"
   ]
  },
  {
   "cell_type": "code",
   "execution_count": 29,
   "metadata": {},
   "outputs": [],
   "source": [
    "import pandas as pd\n",
    "import csv as csv\n",
    "import numpy as np\n",
    "import matplotlib.pyplot as plt"
   ]
  },
  {
   "cell_type": "markdown",
   "metadata": {},
   "source": [
    "Tout d’abord on a importé les libraires nécessaires et par la suite on va créer les fonctions pour charger les datasets et pour faire les premières transformations et calculs "
   ]
  },
  {
   "cell_type": "code",
   "execution_count": 3,
   "metadata": {},
   "outputs": [],
   "source": [
    "# Télécharger le fichier avec les events:\n",
    "\n",
    "def read_event_data(DATADIR,game_id):\n",
    "\n",
    "    eventfile = '/Sample_Game_%d/Sample_Game_%d_RawEventsData.csv' % (game_id,game_id) # filename\n",
    "    events = pd.read_csv('{}/{}'.format(DATADIR, eventfile)) # read data\n",
    "    return events\n",
    "\n",
    "# Télécharger les fichiers tracking:\n",
    "\n",
    "def tracking_data(DATADIR,game_id,teamname):\n",
    "\n",
    "    teamfile = '/Sample_Game_%d/Sample_Game_%d_RawTrackingData_%s_Team.csv' % (game_id,game_id,teamname)\n",
    "    # First:  deal with file headers so that we can get the player names correct\n",
    "    csvfile =  open('{}/{}'.format(DATADIR, teamfile), 'r') # create a csv file reader\n",
    "    reader = csv.reader(csvfile) \n",
    "    teamnamefull = next(reader)[3].lower()\n",
    "    print(\"Reading team: %s\" % teamnamefull)\n",
    "    # construct column names\n",
    "    jerseys = [x for x in next(reader) if x != ''] # extract player jersey numbers from second row\n",
    "    columns = next(reader)\n",
    "    for i, j in enumerate(jerseys): # create x & y position column headers for each player\n",
    "        columns[i*2+3] = \"{}_{}_x\".format(teamname, j)\n",
    "        columns[i*2+4] = \"{}_{}_y\".format(teamname, j)\n",
    "    columns[-2] = \"ball_x\" # column headers for the x & y positions of the ball\n",
    "    columns[-1] = \"ball_y\"\n",
    "    # Second: read in tracking data and place into pandas Dataframe\n",
    "    tracking = pd.read_csv('{}/{}'.format(DATADIR, teamfile), names=columns, index_col='Frame', skiprows=3)\n",
    "    return tracking\n",
    "\n",
    "# Fonction qui permet transformer les positions à mètres:\n",
    "\n",
    "def to_metric_coordinates(data,field_dimen=(106.,68.) ):\n",
    "\n",
    "    x_columns = [c for c in data.columns if c[-1].lower()=='x']\n",
    "    y_columns = [c for c in data.columns if c[-1].lower()=='y']\n",
    "    data[x_columns] = ( data[x_columns]-0.5 ) * field_dimen[0]\n",
    "    data[y_columns] = -1 * ( data[y_columns]-0.5 ) * field_dimen[1]\n",
    "\n",
    "    return data\n",
    "\n",
    "# On a besoin de savoir de quel côte se trouve le gardian pour savoir si l'équipe est de son côté sur le terrain.\n",
    "\n",
    "def find_goalkeeper(df):\n",
    "    x_columns = [c for c in df.columns if c[-2:].lower()=='_x' and c[:4] in ['Home','Away']]\n",
    "    GK_col = df.iloc[0][x_columns].abs().idxmax(axis=1)\n",
    "    n_golkeep = int(GK_col.split('_')[1])\n",
    "\n",
    "    if x_columns[0][:4] == 'Away':\n",
    "        prim_e = [e for e in df['Away_%d_x' %(n_golkeep)]]\n",
    "        if prim_e[0] > 0:\n",
    "            return \"Gardian côté droit\"\n",
    "        else:\n",
    "            return \"Gardian côté gauche\"\n",
    "    else:\n",
    "        prim_e = [e for e in df['Home_%d_x' %(n_golkeep)]]\n",
    "        if prim_e[0] > 0:\n",
    "            return \"Gardian côté droit\"\n",
    "        else:\n",
    "            return \"Gardian côté gauche\"\n",
    "        \n",
    "# On va comptabiliser en minutes le temps que les joueurs sont d’un côté et de l’autre\n",
    "\n",
    "def temps_cote_droit(df):\n",
    "    x_columns = [c for c in df.columns if c[-2:].lower()=='_x' and c[:4] in ['Home','Away']]\n",
    "    conteur = 0\n",
    "    time=[]\n",
    "    for i in x_columns:\n",
    "        for e in df[i]:\n",
    "            if e > 0:\n",
    "                conteur += 1\n",
    "        time.append((conteur*0.04)/60)\n",
    "        conteur = 0\n",
    "    return time\n",
    "def temps_cote_gauche(df):\n",
    "    x_columns = [c for c in df.columns if c[-2:].lower()=='_x' and c[:4] in ['Home','Away']]\n",
    "    conteur = 0\n",
    "    time=[]\n",
    "    for i in x_columns:\n",
    "        for e in df[i]:\n",
    "            if e < 0:\n",
    "                conteur += 1\n",
    "        time.append((conteur*0.04)/60)\n",
    "        conteur = 0\n",
    "    return time"
   ]
  },
  {
   "cell_type": "code",
   "execution_count": 21,
   "metadata": {},
   "outputs": [
    {
     "name": "stdout",
     "output_type": "stream",
     "text": [
      "Reading team: home\n",
      "Reading team: away\n"
     ]
    }
   ],
   "source": [
    "DATADIR = 'C:/Users/crist'\n",
    "game_id = 1\n",
    "\n",
    "events = read_event_data(DATADIR,game_id)\n",
    "tracking_home = tracking_data(DATADIR,game_id,'Home')\n",
    "tracking_away = tracking_data(DATADIR,game_id,'Away')"
   ]
  },
  {
   "cell_type": "code",
   "execution_count": 22,
   "metadata": {},
   "outputs": [],
   "source": [
    "tracking_home = to_metric_coordinates(tracking_home)\n",
    "tracking_away = to_metric_coordinates(tracking_away)\n",
    "\n",
    "# On sépare le match en première et deuxième partie\n",
    "\n",
    "prem_partie_away = tracking_away[tracking_away['Period']==1]\n",
    "deux_partie_away = tracking_away[tracking_away['Period']==2]\n",
    "prem_partie_home = tracking_home[tracking_home['Period']==1]\n",
    "deux_partie_home = tracking_home[tracking_home['Period']==2]"
   ]
  },
  {
   "cell_type": "code",
   "execution_count": 23,
   "metadata": {},
   "outputs": [],
   "source": [
    "def ataq_def(dfhome, dfaway):\n",
    "    cote_home = find_goalkeeper(dfhome)\n",
    "    global ataque_home\n",
    "    global ataque_away\n",
    "    global defense_home\n",
    "    global defense_away\n",
    "    if cote_home == 'Gardian côté gauche':\n",
    "        ataque_home = np.sum(temps_cote_droit(dfhome))\n",
    "        ataque_away = np.sum(temps_cote_gauche(dfaway))\n",
    "        defense_home = np.sum(temps_cote_gauche(dfhome))\n",
    "        defense_away = np.sum(temps_cote_droit(dfaway))\n",
    "    else:\n",
    "        ataque_home = np.sum(temps_cote_gauche(dfhome))\n",
    "        ataque_away = np.sum(temps_cote_droit(dfaway))\n",
    "        defense_home = np.sum(temps_cote_droit(dfhome))\n",
    "        defense_away = np.sum(temps_cote_gauche(dfaway))\n",
    "    return [ataque_home, ataque_away, defense_home, defense_away]"
   ]
  },
  {
   "cell_type": "code",
   "execution_count": 24,
   "metadata": {},
   "outputs": [],
   "source": [
    "home_events = events[events['Team']=='Home']\n",
    "away_events = events[events['Team']=='Away']\n",
    "shots = events[events['Type']=='SHOT']\n",
    "home_shots = home_events[home_events.Type=='SHOT']\n",
    "away_shots = away_events[away_events.Type=='SHOT']\n",
    "home_goals = home_shots[home_shots['Subtype'].str.contains('-GOAL')].copy()\n",
    "away_goals = away_shots[away_shots['Subtype'].str.contains('-GOAL')].copy()"
   ]
  },
  {
   "cell_type": "code",
   "execution_count": 25,
   "metadata": {},
   "outputs": [],
   "source": [
    "goals_home_prem = home_goals[home_goals['Period']==1]['Period']\n",
    "goals_home_deux = home_goals[home_goals['Period']==2]['Period']\n",
    "goals_away_prem = away_goals[away_goals['Period']==1]['Period']\n",
    "goals_away_deux = away_goals[away_goals['Period']==2]['Period']"
   ]
  },
  {
   "cell_type": "code",
   "execution_count": 26,
   "metadata": {},
   "outputs": [],
   "source": [
    "if goals_home_prem.empty:\n",
    "    goals_home_prem = 0\n",
    "else:\n",
    "    goals_home_prem = home_goals[home_goals['Period']==1]['Period'].value_counts()[1]\n",
    "if goals_home_deux.empty:\n",
    "    goals_home_deux = 0\n",
    "else:\n",
    "    goals_home_deux = home_goals[home_goals['Period']==2]['Period'].value_counts()[2]\n",
    "if goals_away_prem.empty:\n",
    "    goals_away_prem = 0\n",
    "else:\n",
    "    goals_away_prem = away_goals[away_goals['Period']==1]['Period'].value_counts()[1]\n",
    "if goals_away_deux.empty:\n",
    "    goals_away_deux = 0\n",
    "else:\n",
    "    goals_away_deux = away_goals[away_goals['Period']==2]['Period'].value_counts()[2]"
   ]
  },
  {
   "cell_type": "code",
   "execution_count": 27,
   "metadata": {},
   "outputs": [
    {
     "data": {
      "image/png": "[encoded data removed]",
      "text/plain": [
       "<Figure size 1440x1440 with 3 Axes>"
      ]
     },
     "metadata": {
      "needs_background": "light"
     },
     "output_type": "display_data"
    }
   ],
   "source": [
    "x =[\"Home attaque\", \"Away attaque\", \"Home défense\", \"Away défense\"]\n",
    "\n",
    "prem_temps = ataq_def(prem_partie_home, prem_partie_away)\n",
    "deux_temps = ataq_def(deux_partie_home, deux_partie_away)\n",
    "total = [prem_temps[0] + deux_temps[0], prem_temps[1]+deux_temps[1], prem_temps[2]+prem_temps[2], prem_temps[3]+deux_temps[3]] \n",
    "fig = plt.figure(figsize=(20,20))\n",
    "plt.subplot(2,3,1)\n",
    "plt.bar(x, prem_temps)\n",
    "plt.ylabel('temps min')\n",
    "plt.title('Première temps')\n",
    "plt.subplot(2,3,2)\n",
    "plt.bar(x, deux_temps)\n",
    "plt.ylabel('temps min')\n",
    "plt.title('Deuxième temps')\n",
    "plt.subplot(2,3,3)\n",
    "plt.bar(x, total)\n",
    "plt.ylabel('temps min')\n",
    "plt.title('Total match');\n",
    "\n"
   ]
  },
  {
   "cell_type": "code",
   "execution_count": 28,
   "metadata": {},
   "outputs": [
    {
     "data": {
      "image/png": "[encoded data removed]",
      "text/plain": [
       "<Figure size 1440x1440 with 3 Axes>"
      ]
     },
     "metadata": {
      "needs_background": "light"
     },
     "output_type": "display_data"
    }
   ],
   "source": [
    "fig = plt.figure(figsize=(20,20))\n",
    "plt.subplot(2,3,1)\n",
    "plt.bar(['home', 'away'], [goals_home_prem, goals_away_prem])\n",
    "plt.ylabel('n buts')\n",
    "plt.title('Première temps')\n",
    "plt.subplot(2,3,2)\n",
    "plt.bar(['home', 'away'], [goals_home_deux, goals_away_deux])\n",
    "plt.title('Deuxième temps')\n",
    "plt.subplot(2,3,3)\n",
    "plt.bar(['home', 'away'], [(goals_home_prem+goals_home_deux), (goals_away_prem+goals_away_deux)])\n",
    "plt.title('Total match');\n"
   ]
  },
  {
   "cell_type": "markdown",
   "metadata": {},
   "source": [
    "On peut voir dans le deux match que l'équipe qui a attaqué a été l'équipe qui a marqué plus de buts"
   ]
  },
  {
   "cell_type": "code",
   "execution_count": null,
   "metadata": {},
   "outputs": [],
   "source": []
  }
 ],
 "metadata": {
  "kernelspec": {
   "display_name": "Python 3",
   "language": "python",
   "name": "python3"
  },
  "language_info": {
   "codemirror_mode": {
    "name": "ipython",
    "version": 3
   },
   "file_extension": ".py",
   "mimetype": "text/x-python",
   "name": "python",
   "nbconvert_exporter": "python",
   "pygments_lexer": "ipython3",
   "version": "3.7.6"
  }
 },
 "nbformat": 4,
 "nbformat_minor": 4
}
